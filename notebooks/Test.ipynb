{
 "cells": [
  {
   "cell_type": "code",
   "execution_count": null,
   "metadata": {},
   "outputs": [],
   "source": [
    "# Imports\n",
    "import sys\n",
    "sys.path.append('../')\n",
    "\n",
    "import datetime\n",
    "import warnings\n",
    "import pandas as pd\n",
    "from scripts.main import laad_data, bekijk_ziekteverzuim, voorspel_met_voortschrijdend_gemiddelde, voorspel_met_regressie, pas_voortschrijdend_gemiddelde_toe, pas_regressie_toe, onderzoek_afwijkingen, bereken_metrieken, voorspel, opties_berekenen, optie_1, optie_2, optie_3\n",
    "\n",
    "\n",
    "## Settings\n",
    "# settings for pandas\n",
    "pd.set_option(\"display.max.columns\",None) # alle kolommen tonen\n",
    "pd.set_option(\"display.max.rows\",500)    # eerste 500 rijen tonen\n",
    "pd.set_option(\"display.precision\", 2)     # precisie van de kolommen aanpassen\n",
    "pd.set_option('display.float_format', lambda x: '{:.3f}'.format(x)) # floats output tot 3 decimalen\n",
    "pd.set_option('display.max_colwidth', None)\n",
    "datum_vandaag = datetime.datetime.now().strftime(\"%Y-%m-%d\")\n",
    "# Disable warnings\n",
    "warnings.filterwarnings('ignore')"
   ]
  },
  {
   "cell_type": "code",
   "execution_count": null,
   "metadata": {},
   "outputs": [],
   "source": [
    "data = pd.read_csv(filepath_or_buffer='../data/Timeseries.csv', sep=';')\n",
    "# onderwerp = kies_onderwerp()"
   ]
  },
  {
   "cell_type": "code",
   "execution_count": null,
   "metadata": {},
   "outputs": [],
   "source": [
    "data.head()"
   ]
  },
  {
   "cell_type": "code",
   "execution_count": null,
   "metadata": {},
   "outputs": [],
   "source": [
    "cut_off_date = '2023-05-15'\n",
    "data['Datum'] = pd.to_datetime(data['Datum'])\n",
    "data.set_index('Datum', inplace=True)"
   ]
  },
  {
   "cell_type": "code",
   "execution_count": null,
   "metadata": {},
   "outputs": [],
   "source": [
    "data.tail()"
   ]
  },
  {
   "cell_type": "code",
   "execution_count": null,
   "metadata": {},
   "outputs": [],
   "source": [
    "def voorspel_met_voortschrijdend_gemiddelde_fixed(data,\n",
    "        onderwerp='Ziekteverzuim',\n",
    "        voorspellen_tot_datum='2025-01-01',\n",
    "        vensterlengte=7,\n",
    "        verschuiving=0,\n",
    "        jaarlijks_patroon=None,\n",
    "        wekelijks_patroon=None,\n",
    "        graad=None,\n",
    "        model=None,\n",
    "        zie_traintest_periodes=False):\n",
    "    \n",
    "    _data = data.copy()\n",
    "    vanaf_datum_train_periode = _data.index.min()\n",
    "    maximum_data_dataset = datetime.datetime(2024,12,31)\n",
    "    date_yesterday = datetime.datetime.now() - datetime.timedelta(days=1)\n",
    "    maximum_date = min(date_yesterday, maximum_data_dataset)\n",
    "    tot_datum_train_periode = maximum_date\n",
    "    vanaf_datum_test_periode = maximum_date\n",
    "    tot_datum_test_periode = voorspellen_tot_datum\n",
    "\n",
    "    df = pas_voortschrijdend_gemiddelde_toe(\n",
    "            data=_data,\n",
    "            onderwerp=onderwerp,\n",
    "            vensterlengte=vensterlengte,\n",
    "            verschuiving=verschuiving,\n",
    "            vanaf_datum_train_periode = vanaf_datum_train_periode,\n",
    "            tot_datum_train_periode = '2023-05-15',\n",
    "            vanaf_datum_test_periode = '2023-05-15',\n",
    "            tot_datum_test_periode = '2024-05-15',\n",
    "            zie_traintest_periodes=zie_traintest_periodes,\n",
    "            plot=False\n",
    "        )\n",
    "    return df\n",
    "\n",
    "def voorspel_met_regressie_fixed(data,\n",
    "        onderwerp='Ziekteverzuim',\n",
    "        voorspellen_tot_datum='2025-01-01',\n",
    "        vensterlengte=None,\n",
    "        verschuiving=None,\n",
    "        jaarlijks_patroon=False,\n",
    "        wekelijks_patroon=False,\n",
    "        graad=1,\n",
    "        model=None,\n",
    "        zie_traintest_periodes=False):\n",
    "\n",
    "    _data = data.copy()\n",
    "    vanaf_datum_train_periode = _data.index.min()\n",
    "    maximum_data_dataset = datetime.datetime(2024,12,31)\n",
    "    date_yesterday = datetime.datetime.now() - datetime.timedelta(days=1)\n",
    "    maximum_date = min(date_yesterday, maximum_data_dataset)\n",
    "    tot_datum_train_periode = maximum_date\n",
    "    vanaf_datum_test_periode = maximum_date\n",
    "    tot_datum_test_periode = voorspellen_tot_datum\n",
    "\n",
    "    df = pas_regressie_toe(\n",
    "            data=_data,\n",
    "            onderwerp=onderwerp,\n",
    "            jaarlijks_seizoenspatroon=jaarlijks_patroon,\n",
    "            wekelijks_seizoenspatroon=wekelijks_patroon,\n",
    "            graad=graad,\n",
    "            vanaf_datum_train_periode = vanaf_datum_train_periode,\n",
    "            tot_datum_train_periode = '2023-05-15',\n",
    "            vanaf_datum_test_periode = '2023-05-15',\n",
    "            tot_datum_test_periode = '2024-05-15',\n",
    "            zie_traintest_periodes=zie_traintest_periodes,\n",
    "            plot=False\n",
    "        )\n",
    "\n",
    "    return df   "
   ]
  },
  {
   "cell_type": "code",
   "execution_count": null,
   "metadata": {},
   "outputs": [],
   "source": [
    "df_metrics_vg = pd.DataFrame()\n",
    "for onderwerp in ['Ziekteverzuim']:\n",
    "    for vensterlengte in [1, 2, 3, 4, 5, 6, 7, 14, 21, 28, 73, 365]:\n",
    "        for verschuiving in [1, 2, 3, 4, 5, 6, 7, 14, 21, 28, 73, 365, 730]:\n",
    "            voortschrijdend_gemiddelde = voorspel_met_voortschrijdend_gemiddelde_fixed(data=data, \n",
    "                                                                            onderwerp=onderwerp, \n",
    "                                                                            vensterlengte=vensterlengte, \n",
    "                                                                            verschuiving=verschuiving, \n",
    "                                                                            voorspellen_tot_datum='2025-01-01')\n",
    "            metrieken = bereken_metrieken(list_of_dfs=[voortschrijdend_gemiddelde], \n",
    "                                        onderwerp=onderwerp,\n",
    "                                        print_statement=False)\n",
    "            metrieken['onderwerp'] = onderwerp\n",
    "            metrieken['vensterlengte'] = vensterlengte\n",
    "            metrieken['verschuiving'] = verschuiving\n",
    "            df_metrics_vg = pd.concat([df_metrics_vg, metrieken])"
   ]
  },
  {
   "cell_type": "code",
   "execution_count": null,
   "metadata": {},
   "outputs": [],
   "source": [
    "regressie = pas_regressie_toe(data=data, onderwerp=onderwerp)\n",
    "\n",
    "df_metrics_lr = pd.DataFrame()\n",
    "for onderwerp in ['Ziekteverzuim']:\n",
    "    for jaarlijks_seizoenspatroon in [True, False]:\n",
    "        for wekelijks_seizoenspatroon in [True, False]:\n",
    "            for graad in range(1,24):\n",
    "                regressie = voorspel_met_regressie_fixed(data=data, \n",
    "                                            onderwerp=onderwerp,\n",
    "                                            jaarlijks_patroon=jaarlijks_seizoenspatroon,\n",
    "                                            wekelijks_patroon=wekelijks_seizoenspatroon,\n",
    "                                            graad=graad,\n",
    "                                            voorspellen_tot_datum='2025-01-01')\n",
    "                metrieken = bereken_metrieken(list_of_dfs=[regressie], \n",
    "                                            onderwerp=onderwerp,\n",
    "                                            print_statement=False)\n",
    "                metrieken['onderwerp'] = onderwerp\n",
    "                metrieken['jaarlijks_seizoenspatroon'] = jaarlijks_seizoenspatroon\n",
    "                metrieken['wekelijks_seizoenspatroon'] = wekelijks_seizoenspatroon\n",
    "                metrieken['graad'] = graad\n",
    "                df_metrics_lr = pd.concat([df_metrics_lr, metrieken])"
   ]
  },
  {
   "cell_type": "code",
   "execution_count": null,
   "metadata": {},
   "outputs": [],
   "source": [
    "df_metrics_vg.sort_values(by='Juistheid', ascending=False)"
   ]
  },
  {
   "cell_type": "code",
   "execution_count": null,
   "metadata": {},
   "outputs": [],
   "source": [
    "df_metrics_lr.sort_values(by='Juistheid', ascending=False)"
   ]
  },
  {
   "cell_type": "code",
   "execution_count": null,
   "metadata": {},
   "outputs": [],
   "source": []
  }
 ],
 "metadata": {
  "kernelspec": {
   "display_name": "Python 3",
   "language": "python",
   "name": "python3"
  },
  "language_info": {
   "codemirror_mode": {
    "name": "ipython",
    "version": 3
   },
   "file_extension": ".py",
   "mimetype": "text/x-python",
   "name": "python",
   "nbconvert_exporter": "python",
   "pygments_lexer": "ipython3",
   "version": "3.11.8"
  }
 },
 "nbformat": 4,
 "nbformat_minor": 2
}
