{
 "cells": [
  {
   "cell_type": "code",
   "execution_count": null,
   "metadata": {},
   "outputs": [],
   "source": [
    "# !git clone https://github.com/dsa-playground/tvt2024.git\n",
    "# %cd /content/tvt2024/\n",
    "# !git pull\n",
    "# !pip install -r requirements.txt -t \"tvt2024\"\n",
    "# !pip install pyaml-env"
   ]
  },
  {
   "cell_type": "code",
   "execution_count": null,
   "metadata": {},
   "outputs": [],
   "source": [
    "# Imports\n",
    "from faker import Faker\n",
    "import pandas as pd\n",
    "import numpy as np\n",
    "import scipy.stats as stats\n",
    "import plotly.graph_objects as go\n",
    "import random\n",
    "import queue\n",
    "import plotly.graph_objects as go\n",
    "from datetime import datetime\n",
    "from sklearn.linear_model import LinearRegression\n",
    "# import sys\n",
    "\n",
    "# sys.path.append(\"../\")\n",
    "\n",
    "from scripts.preprocess.create_data import create_dataset, aggretate_data_for_workshop\n",
    "from scripts.model.model import ts_train_test_split, AverageTrain, AveragePredict, MonthlyMovingAveringTrain, MonthlyMovingAveringPredict, LinearRegressionTrain, LinearRegressionPredict"
   ]
  },
  {
   "cell_type": "code",
   "execution_count": null,
   "metadata": {},
   "outputs": [],
   "source": [
    "# start_date='-5y'\n",
    "# end_date=datetime(2026,1,1)\n",
    "# fake = Faker('nl_NL')\n",
    "\n",
    "# fake.date_between(start_date=start_date, end_date=end_date)"
   ]
  },
  {
   "cell_type": "code",
   "execution_count": null,
   "metadata": {},
   "outputs": [],
   "source": [
    "# ## Create dataset\n",
    "# max_clients = 100\n",
    "# df_data = create_dataset(n_clients=1000, max_clients=max_clients, start_date=datetime(2019,1,1), end_date=datetime(2026,1,1))\n",
    "\n",
    "# df_agg = aggretate_data_for_workshop(df=df_data, max_clients=100)\n",
    "\n",
    "# df_agg.to_csv('data/df_agg.csv', index=False, sep=\";\")\n",
    "\n",
    "# display(df_agg.head())\n",
    "# display(df_agg.tail())"
   ]
  },
  {
   "cell_type": "code",
   "execution_count": null,
   "metadata": {},
   "outputs": [],
   "source": [
    "# Load data\n",
    "df = pd.read_csv('data/df_agg.csv', sep=\";\")\n",
    "df = pd.read_csv('data/ZZP.csv', sep=\";\")"
   ]
  },
  {
   "cell_type": "code",
   "execution_count": null,
   "metadata": {},
   "outputs": [],
   "source": [
    "df.head()"
   ]
  },
  {
   "cell_type": "code",
   "execution_count": null,
   "metadata": {},
   "outputs": [],
   "source": [
    "df.tail()"
   ]
  },
  {
   "cell_type": "code",
   "execution_count": null,
   "metadata": {},
   "outputs": [],
   "source": [
    "# kengetallen weergeven"
   ]
  },
  {
   "cell_type": "code",
   "execution_count": null,
   "metadata": {},
   "outputs": [],
   "source": [
    "fig = go.Figure()\n",
    "\n",
    "for value in df['zorgzwaarte'].unique():\n",
    "    df_subset = df[df['zorgzwaarte'] == value]\n",
    "    fig.add_trace(go.Scatter(\n",
    "        x=df_subset['datum'], \n",
    "        y=df_subset['aantal_clienten'], \n",
    "        mode='lines', \n",
    "        name=str(value)))\n",
    "\n",
    "fig.show()"
   ]
  },
  {
   "cell_type": "code",
   "execution_count": null,
   "metadata": {},
   "outputs": [],
   "source": []
  },
  {
   "cell_type": "code",
   "execution_count": null,
   "metadata": {},
   "outputs": [],
   "source": [
    "# Load data\n",
    "df = pd.read_csv('data/df_agg.csv', \n",
    "                 sep=\";\",\n",
    "                 dtype={\n",
    "                    'zorgzwaarte': 'int32',\n",
    "                    'aantal_clienten': 'int32'\n",
    "                    }, \n",
    "                parse_dates=['datum'])"
   ]
  },
  {
   "cell_type": "code",
   "execution_count": null,
   "metadata": {},
   "outputs": [],
   "source": [
    "df_Xy = df[df['zorgzwaarte'] == 8].reset_index().copy()"
   ]
  },
  {
   "cell_type": "code",
   "execution_count": null,
   "metadata": {},
   "outputs": [],
   "source": [
    "X_test.head()"
   ]
  },
  {
   "cell_type": "code",
   "execution_count": null,
   "metadata": {},
   "outputs": [],
   "source": [
    "X_train, X_test, y_train, y_test = ts_train_test_split(df_Xy, cutoff_date='2023-05-14')\n",
    "\n",
    "## Train models\n",
    "average = AverageTrain(X_train=X_train, y_train=y_train, window_size=None)\n",
    "monthly_mean = MonthlyMovingAveringTrain(X_train=X_train, y_train=y_train,)\n",
    "LRmodel = LinearRegressionTrain(X_train=X_train, y_train=y_train)\n",
    "## Results training period\n",
    "y_preds_A_hist = AveragePredict(X_test=X_train, average=average)\n",
    "y_preds_MA_hist = MonthlyMovingAveringPredict(X_test=X_train, monthly_mean=monthly_mean)\n",
    "y_preds_LR_hist = LinearRegressionPredict(X_test=X_train, model=LRmodel)\n",
    "## Predict future period (evaluation period & future period)\n",
    "y_preds_A = AveragePredict(X_test=X_test, average=average)\n",
    "y_preds_MA = MonthlyMovingAveringPredict(X_test=X_test, monthly_mean=monthly_mean)\n",
    "y_preds_LR = LinearRegressionPredict(X_test=X_test, model=LRmodel)\n",
    "\n",
    "## Make total DataFrame\n",
    "# y_test t/m '2024-05-14' (evaluatie periode: 2023-05-14 t/m 2024-05-14)\n",
    "\n",
    "# Create a DataFrame\n",
    "df_end = pd.DataFrame({\n",
    "    'datum': pd.concat([X_train, X_test]),\n",
    "    'aantal_clienten': np.concatenate([y_train, y_test]),\n",
    "    'Average': np.concatenate([y_preds_A_hist, y_preds_A]),\n",
    "    'Moving Average': np.concatenate([y_preds_MA_hist, y_preds_MA]),\n",
    "    'Linear Regression': np.concatenate([y_preds_LR_hist, y_preds_LR])\n",
    "})\n",
    "\n",
    "## Plot results\n",
    "fig = go.Figure()\n",
    "\n",
    "fig.add_trace(go.Scatter(\n",
    "    x=df_end['datum'], \n",
    "    y=df_end['aantal_clienten'], \n",
    "    mode='lines', \n",
    "    name=str('aantal_clienten')))\n",
    "fig.add_trace(go.Scatter(\n",
    "    x=df_end['datum'], \n",
    "    y=df_end['Average'], \n",
    "    mode='lines', \n",
    "    name=str('Average')))\n",
    "fig.add_trace(go.Scatter(\n",
    "    x=df_end['datum'], \n",
    "    y=df_end['Moving Average'], \n",
    "    mode='lines', \n",
    "    name=str('Moving Average')))\n",
    "fig.add_trace(go.Scatter(\n",
    "    x=df_end['datum'], \n",
    "    y=df_end['Linear Regression'], \n",
    "    mode='lines', \n",
    "    name=str('Linear Regression')))\n",
    "\n",
    "# Add a shape to highlight a part of the graph\n",
    "fig.update_layout(\n",
    "    shapes=[\n",
    "        dict(\n",
    "            type=\"rect\",\n",
    "            xref=\"x\",\n",
    "            yref=\"paper\",\n",
    "            x0=df_end['datum'].min(),\n",
    "            y0=0,\n",
    "            x1='2023-05-14',\n",
    "            y1=1,\n",
    "            fillcolor=\"limegreen\",\n",
    "            opacity=0.1,\n",
    "            layer=\"below\",\n",
    "            line_width=0,\n",
    "        ),\n",
    "        dict(\n",
    "            type=\"rect\",\n",
    "            xref=\"x\",\n",
    "            yref=\"paper\",\n",
    "            x0='2023-05-14',\n",
    "            y0=0,\n",
    "            x1='2024-05-14',\n",
    "            y1=1,\n",
    "            fillcolor=\"LightSalmon\",\n",
    "            opacity=0.4,\n",
    "            layer=\"below\",\n",
    "            line_width=0,\n",
    "        ),\n",
    "        dict(\n",
    "            type=\"rect\",\n",
    "            xref=\"x\",\n",
    "            yref=\"paper\",\n",
    "            x0='2024-05-14',\n",
    "            y0=0,\n",
    "            x1=df_end['datum'].max(),\n",
    "            y1=1,\n",
    "            fillcolor=\"white\",\n",
    "            opacity=0.8,\n",
    "            layer=\"below\",\n",
    "            line_width=0,\n",
    "        )\n",
    "    ]\n",
    ")\n",
    "\n",
    "fig.show()"
   ]
  },
  {
   "cell_type": "code",
   "execution_count": null,
   "metadata": {},
   "outputs": [],
   "source": []
  },
  {
   "cell_type": "code",
   "execution_count": null,
   "metadata": {},
   "outputs": [],
   "source": [
    "from random import randint\n",
    "# Generate a random start date\n",
    "start_date = pd.to_datetime('2000-01-01') + pd.DateOffset(days=randint(0, 365*20))\n",
    "\n",
    "# Generate a random number from a normal distribution with a mu of 9 (months) and a std of 4 (months)\n",
    "random_number = np.random.normal(loc=9, scale=4)\n",
    "\n",
    "# Add the random number to the start date to get the end date\n",
    "end_date = start_date + pd.DateOffset(months=random_number)\n",
    "\n",
    "# Check if the end date is less than 31 days after the start date\n",
    "if (end_date - start_date).days < 31:\n",
    "    end_date = start_date + pd.DateOffset(days=31)\n",
    "\n",
    "# Create a weighted choice for the month\n",
    "months = list(range(1, 13))\n",
    "weights = [0.1 if month not in [12, 1, 7] else 0.2 for month in months]\n",
    "chosen_month = np.random.choice(months, p=weights)\n",
    "\n",
    "# Set the month of the end date to the chosen month\n",
    "end_date = end_date.replace(month=chosen_month)\n",
    "\n",
    "print(start_date, end_date)"
   ]
  },
  {
   "cell_type": "code",
   "execution_count": null,
   "metadata": {},
   "outputs": [],
   "source": []
  }
 ],
 "metadata": {
  "kernelspec": {
   "display_name": "Python 3",
   "language": "python",
   "name": "python3"
  },
  "language_info": {
   "codemirror_mode": {
    "name": "ipython",
    "version": 3
   },
   "file_extension": ".py",
   "mimetype": "text/x-python",
   "name": "python",
   "nbconvert_exporter": "python",
   "pygments_lexer": "ipython3",
   "version": "3.11.8"
  }
 },
 "nbformat": 4,
 "nbformat_minor": 2
}
