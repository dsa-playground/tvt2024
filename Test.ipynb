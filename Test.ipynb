{
 "cells": [
  {
   "cell_type": "code",
   "execution_count": 1,
   "metadata": {},
   "outputs": [],
   "source": [
    "# Imports\n",
    "import datetime\n",
    "import warnings\n",
    "import pandas as pd\n",
    "from scripts.main import laad_data, bekijk_ziekteverzuim, bekijk_clienten, bekijk_flexpool, kies_onderwerp, pas_voortschrijdend_gemiddelde_toe, pas_regressie_toe, onderzoek_afwijkingen, bereken_metrieken, voorspel, optie_1, optie_2, optie_3\n",
    "\n",
    "## Settings\n",
    "# settings for pandas\n",
    "pd.set_option(\"display.max.columns\",None) # alle kolommen tonen\n",
    "pd.set_option(\"display.max.rows\",500)    # eerste 500 rijen tonen\n",
    "pd.set_option(\"display.precision\", 2)     # precisie van de kolommen aanpassen\n",
    "pd.set_option('display.float_format', lambda x: '{:.3f}'.format(x)) # floats output tot 3 decimalen\n",
    "pd.set_option('display.max_colwidth', None)\n",
    "datum_vandaag = datetime.datetime.now().strftime(\"%Y-%m-%d\")\n",
    "# Disable warnings\n",
    "warnings.filterwarnings('ignore')"
   ]
  },
  {
   "cell_type": "code",
   "execution_count": 2,
   "metadata": {},
   "outputs": [],
   "source": [
    "data = laad_data()\n",
    "# onderwerp = kies_onderwerp()"
   ]
  },
  {
   "cell_type": "code",
   "execution_count": 3,
   "metadata": {},
   "outputs": [
    {
     "data": {
      "text/html": [
       "<div>\n",
       "<style scoped>\n",
       "    .dataframe tbody tr th:only-of-type {\n",
       "        vertical-align: middle;\n",
       "    }\n",
       "\n",
       "    .dataframe tbody tr th {\n",
       "        vertical-align: top;\n",
       "    }\n",
       "\n",
       "    .dataframe thead th {\n",
       "        text-align: right;\n",
       "    }\n",
       "</style>\n",
       "<table border=\"1\" class=\"dataframe\">\n",
       "  <thead>\n",
       "    <tr style=\"text-align: right;\">\n",
       "      <th></th>\n",
       "      <th>Cliënten</th>\n",
       "      <th>Ziekteverzuim</th>\n",
       "      <th>Flexpool</th>\n",
       "    </tr>\n",
       "    <tr>\n",
       "      <th>Datum</th>\n",
       "      <th></th>\n",
       "      <th></th>\n",
       "      <th></th>\n",
       "    </tr>\n",
       "  </thead>\n",
       "  <tbody>\n",
       "    <tr>\n",
       "      <th>2019-01-01</th>\n",
       "      <td>239</td>\n",
       "      <td>8.670</td>\n",
       "      <td>8</td>\n",
       "    </tr>\n",
       "    <tr>\n",
       "      <th>2019-01-02</th>\n",
       "      <td>239</td>\n",
       "      <td>8.590</td>\n",
       "      <td>9</td>\n",
       "    </tr>\n",
       "    <tr>\n",
       "      <th>2019-01-03</th>\n",
       "      <td>239</td>\n",
       "      <td>8.740</td>\n",
       "      <td>10</td>\n",
       "    </tr>\n",
       "    <tr>\n",
       "      <th>2019-01-04</th>\n",
       "      <td>238</td>\n",
       "      <td>8.900</td>\n",
       "      <td>9</td>\n",
       "    </tr>\n",
       "    <tr>\n",
       "      <th>2019-01-05</th>\n",
       "      <td>237</td>\n",
       "      <td>8.740</td>\n",
       "      <td>9</td>\n",
       "    </tr>\n",
       "  </tbody>\n",
       "</table>\n",
       "</div>"
      ],
      "text/plain": [
       "            Cliënten  Ziekteverzuim  Flexpool\n",
       "Datum                                        \n",
       "2019-01-01       239          8.670         8\n",
       "2019-01-02       239          8.590         9\n",
       "2019-01-03       239          8.740        10\n",
       "2019-01-04       238          8.900         9\n",
       "2019-01-05       237          8.740         9"
      ]
     },
     "execution_count": 3,
     "metadata": {},
     "output_type": "execute_result"
    }
   ],
   "source": [
    "data.head()"
   ]
  },
  {
   "cell_type": "code",
   "execution_count": 4,
   "metadata": {},
   "outputs": [],
   "source": [
    "df_metrics_vg = pd.DataFrame()\n",
    "for onderwerp in ['Ziekteverzuim']:\n",
    "    for vensterlengte in [1, 2, 3, 4, 5, 6, 7, 14, 21, 28, 73, 365]:\n",
    "        for verschuiving in [1, 2, 3, 4, 5, 6, 7, 14, 21, 28, 73, 365, 730]:\n",
    "            voortschrijdend_gemiddelde = pas_voortschrijdend_gemiddelde_toe(data=data, \n",
    "                                                                            onderwerp=onderwerp, \n",
    "                                                                            vensterlengte=vensterlengte, \n",
    "                                                                            verschuiving=verschuiving, \n",
    "                                                                            plot=False)\n",
    "            metrieken = bereken_metrieken(list_of_dfs=[voortschrijdend_gemiddelde], \n",
    "                                        onderwerp=onderwerp,\n",
    "                                        print_statement=False)\n",
    "            metrieken['onderwerp'] = onderwerp\n",
    "            metrieken['vensterlengte'] = vensterlengte\n",
    "            metrieken['verschuiving'] = verschuiving\n",
    "            df_metrics_vg = pd.concat([df_metrics_vg, metrieken])"
   ]
  },
  {
   "cell_type": "code",
   "execution_count": null,
   "metadata": {},
   "outputs": [],
   "source": [
    "regressie = pas_regressie_toe(data=data, onderwerp=onderwerp)\n",
    "\n",
    "df_metrics_lr = pd.DataFrame()\n",
    "for onderwerp in ['Ziekteverzuim']:\n",
    "    for jaarlijks_seizoenspatroon in [True, False]:\n",
    "        for wekelijks_seizoenspatroon in [True, False]:\n",
    "            for graad in range(1,24):\n",
    "                regressie = pas_regressie_toe(data=data, \n",
    "                                            onderwerp=onderwerp,\n",
    "                                            jaarlijks_seizoenspatroon=jaarlijks_seizoenspatroon,\n",
    "                                            wekelijks_seizoenspatroon=wekelijks_seizoenspatroon,\n",
    "                                            graad=graad,\n",
    "                                            plot=False)\n",
    "                metrieken = bereken_metrieken(list_of_dfs=[regressie], \n",
    "                                            onderwerp=onderwerp,\n",
    "                                            print_statement=False)\n",
    "                metrieken['onderwerp'] = onderwerp\n",
    "                metrieken['jaarlijks_seizoenspatroon'] = jaarlijks_seizoenspatroon\n",
    "                metrieken['wekelijks_seizoenspatroon'] = wekelijks_seizoenspatroon\n",
    "                metrieken['graad'] = graad\n",
    "                df_metrics_lr = pd.concat([df_metrics_lr, metrieken])"
   ]
  },
  {
   "cell_type": "code",
   "execution_count": null,
   "metadata": {},
   "outputs": [],
   "source": [
    "df_metrics_vg.to_csv(f\"data/voortschrijdend_gemiddelde_{onderwerp}_{datum_vandaag}.csv\", index=False)\n",
    "df_metrics_lr.to_csv(f\"data/regressie_{onderwerp}_{datum_vandaag}.csv\", index=False)"
   ]
  },
  {
   "cell_type": "code",
   "execution_count": null,
   "metadata": {},
   "outputs": [],
   "source": []
  }
 ],
 "metadata": {
  "kernelspec": {
   "display_name": "Python 3",
   "language": "python",
   "name": "python3"
  },
  "language_info": {
   "codemirror_mode": {
    "name": "ipython",
    "version": 3
   },
   "file_extension": ".py",
   "mimetype": "text/x-python",
   "name": "python",
   "nbconvert_exporter": "python",
   "pygments_lexer": "ipython3",
   "version": "3.11.8"
  }
 },
 "nbformat": 4,
 "nbformat_minor": 2
}
