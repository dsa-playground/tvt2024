{
 "cells": [
  {
   "cell_type": "code",
   "execution_count": null,
   "metadata": {},
   "outputs": [],
   "source": [
    "# !git clone https://github.com/dsa-playground/tvt2024.git\n",
    "# %cd /content/tvt2024/\n",
    "# !git pull\n",
    "# !pip install upgrade -r requirements.txt -t \"tvt2024\"\n",
    "# !pip install pyaml-env"
   ]
  },
  {
   "cell_type": "code",
   "execution_count": null,
   "metadata": {},
   "outputs": [],
   "source": [
    "# Imports\n",
    "import datetime\n",
    "import warnings\n",
    "import pandas as pd\n",
    "from scripts.main import bekijk_data, kies_onderwerp, pas_modellen_toe, pas_gemiddelde_toe, pas_voortschrijdend_gemiddelde_toe, pas_lineaire_regressie_toe, pas_parameters_toe_en_evalueer, voorspel, onderzoek_afwijkingen, bereken_metrieken\n",
    "\n",
    "## Settings\n",
    "# settings for pandas\n",
    "pd.set_option(\"display.max.columns\",None) # alle kolommen tonen\n",
    "pd.set_option(\"display.max.rows\",500)    # eerste 500 rijen tonen\n",
    "pd.set_option(\"display.precision\", 2)     # precisie van de kolommen aanpassen\n",
    "pd.set_option('display.float_format', lambda x: '{:.3f}'.format(x)) # floats output tot 3 decimalen\n",
    "pd.set_option('display.max_colwidth', None)\n",
    "datum_vandaag = datetime.datetime.now().strftime(\"%Y-%m-%d\")\n",
    "# Disable warnings\n",
    "warnings.filterwarnings('ignore')"
   ]
  },
  {
   "cell_type": "markdown",
   "metadata": {},
   "source": [
    "# Inleiding\n",
    "\n",
    "Jullie zijn allen werkzaam bij zorgorganisatie 'Zorgello' in de afdeling Analytics. De bestuurder komt binnen stormen:\n",
    "\n",
    "Morgen heb ik een vergadering met de Raad van Commisarissen. Vorig jaar hebben ze me flink aan de tand gevoeld. Van een aantal zaken kon ik niet goed aangeven welke richting het op beweegt. Ik heb voor de vergadering morgen wat forecasts nodig. Kunnen jullie deze even snel maken? Het gaat om:\n",
    "1. Het aantal clienten (ZZP >= 6)\n",
    "2. Het ziekteverzuim van ons personeel\n",
    "3. Kosten van inkoop materiaal \n",
    "4. Inzet van flexpool medewerkers\n",
    "\n",
    "Jullie als afdeling verdelen de onderwerpen. \n",
    "\n",
    "Forecasting: Predict or estimate (a future event or trend).\n",
    "\n",
    "\n",
    "\n"
   ]
  },
  {
   "cell_type": "code",
   "execution_count": null,
   "metadata": {},
   "outputs": [],
   "source": [
    "# a. Kies onderwerp\n",
    "df = bekijk_data()\n",
    "\n",
    "\n",
    "\n",
    "# VRAAG: Corona-periode invoegen? Als je dat doet, moet je ook een correctie \n",
    "# kunnen doorvoeren in de data om de effecten van corona te verminderen. OF... zeggen dat je tot een bepaalde periode niet gebruikt...\n"
   ]
  },
  {
   "cell_type": "code",
   "execution_count": null,
   "metadata": {},
   "outputs": [],
   "source": [
    "onderwerp = kies_onderwerp()"
   ]
  },
  {
   "cell_type": "markdown",
   "metadata": {},
   "source": [
    "# Pas modellen toe\n",
    "\n",
    "Nu je het onderwerp gekozen hebt, kunnen we een aantal modellen gaan toepassen. \n",
    "\n",
    "Een voorspelling is een schatting voor de toekomst. Hoe meer historische, proces en causale informatie, hoe beter een algoritme te bouwen is voor een voorspelling. Om in deze workshop niet te verzanden in verklarende data en complexe algoritmes, hebben we gekozen voor 3 ('eenvoudige') modellen:\n",
    "* Het gemiddelde\n",
    "* Het voortschrijdend gemiddelde\n",
    "* Lineaire regressie\n",
    "\n",
    "#### *Het gemiddelde*\n",
    "Het nemen van een vast getal als schatter kan op meerdere manieren. Te denken aan de 'laatst bekende waarde' of het gemiddelde. In veel gevallen een prima voorspeller voor de toekomst. Wat zou jij immers schatten als iemand vraagt naar hoe lang je reist van thuis naar werk? \n",
    "De formule voor het gemiddelde luidt:\n",
    "\n",
    "$$\n",
    "\\text{Gemiddelde} = \\frac{\\left( a_1 + a_2 + ... +a_n\\right)}{n}\n",
    "$$\n",
    "\n",
    "Hierbij is 'a' de historische waarde en 'n' het aantal historische waarden. Laten we het gemiddelde toepassen voor het onderwerp wat jullie gekozen hebben. \n",
    "\n",
    "\n",
    "<!-- ![Laatste foto van de Titanic](https://raw.githubusercontent.com/dsa-playground/tvt2023/main/images/lastphoto_titanic.png) -->\n"
   ]
  },
  {
   "cell_type": "code",
   "execution_count": null,
   "metadata": {},
   "outputs": [],
   "source": [
    "df_gemiddelde = pas_gemiddelde_toe(df=df, onderwerp=onderwerp)"
   ]
  },
  {
   "cell_type": "markdown",
   "metadata": {},
   "source": [
    "In de grafiek zijn twee periodes te onderscheiden:\n",
    "* Het groene vlak is de **trainperiode**. De data uit deze periode is gebruikt om het model te trainen; in dit geval het gemiddelde te berekenen.\n",
    "* Het rode vlak is de **testperiode**. De data uit deze periode wordt gebruikt om te toetsen hoe goed het algoritme aansluit bij de gerealiseerde waarden.\n",
    "\n",
    "#### *Het voortschrijdend gemiddelde*\n",
    "Een ander eenvoudig model om toe te passen is het voortschrijdend gemiddelde. Ook hierbij maak je enkel gebruik van de historische waarden. De formule luidt:\n",
    "\n",
    "$$\n",
    "\\text{Voortschrijdend gemiddelde} = \\frac{\\left( a_{n-k+1} + a_{n-k+2} + ... +a_{n}\\right)}{k} = \\frac{1}{k} \\sum_{i=n-k+1}^n a_i\n",
    "$$\n",
    "\n",
    "Hierbij is 'a' de historische waarde, 'n' geeft de volgorde van de historische waarde aan en k het aantal voorgaande waarden. Het voortschrijdend gemiddelde is het gemiddelde van de laatste *k* waarden. \n",
    "\n",
    "Opdracht:\n",
    "Stel het voortschrijdend gemiddelde wordt bepaald op basis van de 4 voorgaande waarden. Hoe zien de eerste 2 getallen eruit na deze reeks:\n",
    "\n",
    "*9, 15, 12, 8, 12, a, b*\n",
    "\n",
    "a = ...\n",
    "\n",
    "b = ...\n",
    "\n",
    "\n",
    "\n",
    "\n",
    "Laten we het voortschrijdend gemiddelde toepassen voor het onderwerp wat jullie gekozen hebben. \n",
    "\n",
    "<!-- a<sup>2</sup><sub>b</sub> -->"
   ]
  },
  {
   "cell_type": "code",
   "execution_count": null,
   "metadata": {},
   "outputs": [],
   "source": [
    "\"\"\"\n",
    "Antwoord (later verwijderen)\n",
    "a = (16 + 12 + 8 + 12) / 4 = 12\n",
    "\n",
    "b = (12 + 8 + 12 + 12) / 4 = 11\n",
    "\"\"\""
   ]
  },
  {
   "cell_type": "code",
   "execution_count": null,
   "metadata": {},
   "outputs": [],
   "source": [
    "df_voortschrijdend_gemiddelde = pas_voortschrijdend_gemiddelde_toe(df=df, onderwerp=onderwerp)"
   ]
  },
  {
   "cell_type": "markdown",
   "metadata": {},
   "source": [
    "\n",
    "#### *Lineaire regressie*\n",
    "Er zijn ook algoritmes welke niet enkel kijken naar de historische waarden die je probeert te voorspellen. Deze algoritmes maken gebruik van verklarende variabele(n). Het eenvoudigste model is lineaire regressie. Wat dit model doet een regressielijn bepalen: best passende lijn om de relatie tussen x en y te bepalen. Hierbij is y de variabele waar je naar op zoek bent en x kunnen 1 of meerdere verklarende variabelen zijn. In formulevorm:\n",
    "\n",
    "$$\n",
    "y_i = \\beta_0 + \\beta_1 x_1 + ... + \\beta_i x_i + \\epsilon_i\n",
    "$$\n",
    "\n",
    "Laten we een eenvoudige lineare regressie met 1 variabele (volgordelijkheid datums) toepassen:"
   ]
  },
  {
   "cell_type": "code",
   "execution_count": null,
   "metadata": {},
   "outputs": [],
   "source": [
    "df_lineaire_regressie = pas_lineaire_regressie_toe(df=df, onderwerp=onderwerp, yearly_seasonality=False, weekly_seasonality=False)"
   ]
  },
  {
   "cell_type": "markdown",
   "metadata": {},
   "source": [
    "# Evalueren\n",
    "\n",
    "Elk van de modellen geven een voorspelling. Natuurlijk is een visuele check (realisatie naast voorspelling) heel erg belangrijk. Toch is het ook belangrijk om iets meer te kijken naar de afwijking op zichzelf. \n",
    "\n",
    "Opdracht: \n",
    "Welk model heeft de grootste afwijking op 1 dag?\n",
    "\n",
    "#### *De afwijking (error)*\n",
    "Laten we de reeks van errors voor elk model eens bekijken.  "
   ]
  },
  {
   "cell_type": "code",
   "execution_count": null,
   "metadata": {},
   "outputs": [],
   "source": [
    "onderzoek_afwijkingen(list_of_dfs=[df_gemiddelde, df_voortschrijdend_gemiddelde, df_lineaire_regressie], \n",
    "                      onderwerp=onderwerp)\n",
    "                    #   start='2023-05-15',\n",
    "                    #   end=df_gemiddelde.index.max()) # base_col, start en end zorgen dat deze uit de settings komen"
   ]
  },
  {
   "cell_type": "markdown",
   "metadata": {},
   "source": [
    "Bij de toegepaste modellen wordt voor de train periode natuurlijk een 'optimum' gezocht binnen de grenzen van een model. Maar afhankelijk van het onderwerp en het model zul je verschillen zien. Sommige modellen geven een error die mooi rond de 0 beweegt, anderen zien de error groter of kleiner worden in de tijd. \n",
    "\n",
    "#### *Metrieken*\n",
    "Om subjectiviteit eruit te halen is het ontzettend belangrijk stil te staan bij het selecteren van een goede metriek. Een metriek is een getalsmatige uitdrukking van hoe goed/slecht je model presteert. Er zijn ontzettend veel metrieken, elk met een specifiek inzicht.\n",
    "\n",
    "Voor vandaag hebben we voor jullie gekozen en twee metrieken geselecteerd:\n",
    "* R-squared: Deze metriek geeft zicht op hoe de relatie is tussen de echte en voorspelde waarden. De uitkomst ligt tussen -1 en 1. Hoe dichter bij de 1 of -1, hoe sterker de relatie en hoe beter het model past. Een score van 0 is de slechtst mogelijke score.\n",
    "* MAE: Mean Absolute Error. Deze metriek berekend het gemiddelde van de verschillen in absolute waarde (positief getal). Het geeft daarmee inzicht in hoe groot de gemiddelde afwijking is. Hoe dichter bij 0, hoe beter het model presteert. \n",
    "\n",
    "\n"
   ]
  },
  {
   "cell_type": "code",
   "execution_count": null,
   "metadata": {},
   "outputs": [],
   "source": [
    "bereken_metrieken(list_of_dfs=[df_gemiddelde, df_voortschrijdend_gemiddelde, df_lineaire_regressie], \n",
    "                  onderwerp=onderwerp, \n",
    "                  start='2023-05-15',\n",
    "                  end=df_gemiddelde.index.max())"
   ]
  },
  {
   "cell_type": "markdown",
   "metadata": {},
   "source": [
    "Onderstaande verder gaan: Code opschonen, betere benaming, tekst toevoegen om een en ander toe te lichten"
   ]
  },
  {
   "cell_type": "code",
   "execution_count": null,
   "metadata": {},
   "outputs": [],
   "source": [
    "# Model gemiddeld\n",
    "vanaf_datum_train_periode = '2019-01-01'\n",
    "tot_datum_train_periode = '2023-05-15'\n",
    "vanaf_datum_test_periode = '2023-05-15'\n",
    "tot_datum_test_periode = datum_vandaag\n",
    "# - Geen specifieke parameters\n",
    "\n",
    "df_gemiddelde = pas_gemiddelde_toe(df=df,\n",
    "    onderwerp=onderwerp,\n",
    "    vanaf_datum_train_periode = vanaf_datum_train_periode,\n",
    "    tot_datum_train_periode = tot_datum_train_periode,\n",
    "    vanaf_datum_test_periode = vanaf_datum_test_periode,\n",
    "    tot_datum_test_periode = tot_datum_test_periode)\n",
    "\n",
    "bereken_metrieken(list_of_dfs=[df_gemiddelde], \n",
    "                  onderwerp=onderwerp, \n",
    "                  start='2023-05-15',\n",
    "                  end=df_gemiddelde.index.max())"
   ]
  },
  {
   "cell_type": "code",
   "execution_count": null,
   "metadata": {},
   "outputs": [],
   "source": [
    "# Model voortschrijdend gemiddelde\n",
    "vanaf_datum_train_periode = '2019-01-01'\n",
    "tot_datum_train_periode = '2023-05-15'\n",
    "vanaf_datum_test_periode = '2023-05-15'\n",
    "tot_datum_test_periode = datum_vandaag\n",
    "window_size = 7\n",
    "shift_period = 365\n",
    "predict=False\n",
    "\n",
    "df_voortschrijdend_gemiddelde = pas_voortschrijdend_gemiddelde_toe(\n",
    "    df=df,\n",
    "    onderwerp=onderwerp,\n",
    "    vanaf_datum_train_periode = vanaf_datum_train_periode,\n",
    "    tot_datum_train_periode = tot_datum_train_periode,\n",
    "    vanaf_datum_test_periode = vanaf_datum_test_periode,\n",
    "    tot_datum_test_periode = tot_datum_test_periode,\n",
    "    window_size= window_size,\n",
    "    shift_period = shift_period,\n",
    "    predict = predict,\n",
    ")\n",
    "\n",
    "bereken_metrieken(list_of_dfs=[df_voortschrijdend_gemiddelde], \n",
    "                  onderwerp=onderwerp, \n",
    "                  start='2023-05-15',\n",
    "                  end=df_voortschrijdend_gemiddelde.index.max())"
   ]
  },
  {
   "cell_type": "code",
   "execution_count": null,
   "metadata": {},
   "outputs": [],
   "source": [
    "# Model lineaire regressie\n",
    "vanaf_datum_train_periode = '2019-01-01'\n",
    "tot_datum_train_periode = '2023-05-15'\n",
    "vanaf_datum_test_periode = '2023-05-15'\n",
    "tot_datum_test_periode = datum_vandaag\n",
    "yearly_seasonality=True\n",
    "weekly_seasonality=True\n",
    "transformation='spline'\n",
    "n_bins=14\n",
    "strategy= 'uniform'\n",
    "n_knots= 4\n",
    "degree= 4\n",
    "\n",
    "df_lineaire_regressie = pas_lineaire_regressie_toe(df=df,\n",
    "    onderwerp=onderwerp,\n",
    "    vanaf_datum_train_periode = vanaf_datum_train_periode,\n",
    "    tot_datum_train_periode = tot_datum_train_periode,\n",
    "    vanaf_datum_test_periode = vanaf_datum_test_periode,\n",
    "    tot_datum_test_periode = tot_datum_test_periode,\n",
    "    yearly_seasonality = yearly_seasonality,\n",
    "    weekly_seasonality = weekly_seasonality,\n",
    "    transformation=transformation, n_bins=n_bins, strategy=strategy, n_knots=n_knots, degree=degree\n",
    ")\n",
    "\n",
    "bereken_metrieken(list_of_dfs=[df_lineaire_regressie], \n",
    "                  onderwerp=onderwerp, \n",
    "                  start='2023-05-15',\n",
    "                  end=df_lineaire_regressie.index.max())"
   ]
  },
  {
   "cell_type": "code",
   "execution_count": null,
   "metadata": {},
   "outputs": [],
   "source": [
    "# # Stap 5: Optimaliseren van je algoritme ---> Vervangen door functie per model. \n",
    "\n",
    "# # Generiek voor alle modellen\n",
    "# vanaf_datum_train_periode = '2019-01-01'\n",
    "# tot_datum_train_periode = '2023-05-15'\n",
    "# vanaf_datum_test_periode = '2023-05-15'\n",
    "# tot_datum_test_periode = '2024-05-15'\n",
    "\n",
    "# # Gemiddelde\n",
    "# # - Geen specifieke parameters\n",
    "\n",
    "# # Voortschrijdend_gemiddelde\n",
    "# window_size = 7\n",
    "# shift_period = 365\n",
    "# predict=False\n",
    "\n",
    "# # Lineaire regressie\n",
    "# yearly_seasonality=True\n",
    "# weekly_seasonality=True\n",
    "# transformation='spline'\n",
    "# n_bins=14\n",
    "# strategy= 'uniform'\n",
    "# n_knots= 4\n",
    "# degree= 4\n",
    "\n",
    "# df_evalueer = pas_parameters_toe_en_evalueer(\n",
    "#     df=df,\n",
    "#     onderwerp=onderwerp,\n",
    "#     vanaf_datum_train_periode = vanaf_datum_train_periode,\n",
    "#     tot_datum_train_periode = tot_datum_train_periode,\n",
    "#     vanaf_datum_test_periode = vanaf_datum_test_periode,\n",
    "#     tot_datum_test_periode = tot_datum_test_periode,\n",
    "#     window_size= window_size,\n",
    "#     shift_period = shift_period,\n",
    "#     predict = predict,\n",
    "#     yearly_seasonality = yearly_seasonality,\n",
    "#     weekly_seasonality = weekly_seasonality,\n",
    "#     transformation=transformation, n_bins=n_bins, strategy=strategy, n_knots=n_knots, degree=degree\n",
    "# )\n",
    "\n",
    "# bereken_metrieken(df=df_evalueer, \n",
    "#                   onderwerp=onderwerp, \n",
    "#                   start=vanaf_datum_test_periode,\n",
    "#                   end=df_evalueer.index.max())"
   ]
  },
  {
   "cell_type": "markdown",
   "metadata": {},
   "source": [
    "Voorspelfunctie nog aanpassen zodat een model gekozen kan worden"
   ]
  },
  {
   "cell_type": "code",
   "execution_count": null,
   "metadata": {},
   "outputs": [],
   "source": [
    "# Stap 6: Voorspel!\n",
    "# voorspel()\n",
    "\n",
    "# Generiek voor alle modellen\n",
    "vanaf_datum_train_periode = '2019-01-01'\n",
    "tot_datum_train_periode = '2023-05-15'\n",
    "vanaf_datum_test_periode = '2023-05-15'\n",
    "tot_datum_test_periode = '2026-01-01'\n",
    "\n",
    "# Gemiddelde\n",
    "# - Geen specifieke parameters\n",
    "\n",
    "# Voortschrijdend_gemiddelde\n",
    "window_size = 7\n",
    "shift_period = 365\n",
    "predict=False\n",
    "\n",
    "# Lineaire regressie\n",
    "yearly_seasonality=True\n",
    "weekly_seasonality=True\n",
    "transformation='spline'\n",
    "n_bins=14\n",
    "strategy= 'uniform'\n",
    "n_knots= 4\n",
    "degree= 4\n",
    "\n",
    "df_toekomst = voorspel(\n",
    "    df=df,\n",
    "    onderwerp=onderwerp,\n",
    "    vanaf_datum_train_periode = vanaf_datum_train_periode,\n",
    "    tot_datum_train_periode = tot_datum_train_periode,\n",
    "    vanaf_datum_test_periode = vanaf_datum_test_periode,\n",
    "    tot_datum_test_periode = tot_datum_test_periode,\n",
    "    window_size= window_size,\n",
    "    shift_period = shift_period,\n",
    "    predict = predict,\n",
    "    yearly_seasonality = yearly_seasonality,\n",
    "    weekly_seasonality = weekly_seasonality,\n",
    "    transformation=transformation, n_bins=n_bins, strategy=strategy, n_knots=n_knots, degree=degree, shapes=False\n",
    ")\n",
    "\n",
    "# Belangrijke les om mee te nemen is het proces wat je opzet! \n",
    "# Dit proces is herhaalbaar en kan je steeds verbeteren. \n",
    "# Gebruik elke keer de resultaten van de vorige stap om de volgende stap te verbeteren.\n",
    "# Corrigeer outliers indien bekend."
   ]
  },
  {
   "cell_type": "code",
   "execution_count": null,
   "metadata": {},
   "outputs": [],
   "source": [
    "# TODO:\n",
    "\n",
    "# DONE: Fix shapes in plot functie (nu hardcoded 1 jaar van max)\n",
    "# DONE: Verplaatsen functies naar preprocess, evaluate en model\n",
    "# DONE: Requirements uitwerken\n",
    "# DONE: Push naar github\n",
    "# DONE: Test op colab\n",
    "# Tekst toevoegen aan notebook\n",
    "# Presentaie aanvullen met toelichting\n",
    "\n",
    "# R2 toevoegen aan metrieken?\n",
    "# Na workshop: Optimum uitrekenen voor elk dataset en model\n",
    "# Code opschonen\n",
    "# "
   ]
  },
  {
   "cell_type": "code",
   "execution_count": null,
   "metadata": {},
   "outputs": [],
   "source": []
  },
  {
   "cell_type": "code",
   "execution_count": null,
   "metadata": {},
   "outputs": [],
   "source": []
  },
  {
   "cell_type": "code",
   "execution_count": null,
   "metadata": {},
   "outputs": [],
   "source": []
  }
 ],
 "metadata": {
  "kernelspec": {
   "display_name": "Python 3",
   "language": "python",
   "name": "python3"
  },
  "language_info": {
   "codemirror_mode": {
    "name": "ipython",
    "version": 3
   },
   "file_extension": ".py",
   "mimetype": "text/x-python",
   "name": "python",
   "nbconvert_exporter": "python",
   "pygments_lexer": "ipython3",
   "version": "3.11.8"
  }
 },
 "nbformat": 4,
 "nbformat_minor": 2
}
